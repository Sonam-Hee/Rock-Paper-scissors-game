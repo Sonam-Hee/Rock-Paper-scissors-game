{
  "nbformat": 4,
  "nbformat_minor": 0,
  "metadata": {
    "colab": {
      "provenance": []
    },
    "kernelspec": {
      "name": "python3",
      "display_name": "Python 3"
    }
  },
  "cells": [
    {
      "cell_type": "markdown",
      "metadata": {
        "id": "e4QGT0wEyPzI"
      },
      "source": [
        "The Rock-Paper-Scissors Game"
      ]
    },
    {
      "cell_type": "code",
      "metadata": {
        "id": "tVGefK0W7XYm"
      },
      "source": [
        "# Import the random module\n",
        "import random\n",
        "def predict():\n",
        "  pred = random.randint(0, 2)\n",
        "  return pred"
      ],
      "execution_count": null,
      "outputs": []
    },
    {
      "cell_type": "code",
      "metadata": {
        "id": "kmTRqKuBDiVw"
      },
      "source": [
        "# Create the player_score and comp_score variables.\n",
        "player_score=0\n",
        "comp_score=0"
      ],
      "execution_count": null,
      "outputs": []
    },
    {
      "cell_type": "code",
      "metadata": {
        "id": "2T3NfNyB-BXO"
      },
      "source": [
        "# Create the update_scores() function.\n",
        "def update_scores(user_input):\n",
        "  global player_score, comp_score\n",
        "  # Rock wins over scissors, scissors win over paper and paper wins over rock.\n",
        "  pred = predict()\n",
        "\n",
        "  if user_input == 0:\n",
        "    if pred == 0:\n",
        "      print(\"\\nYou played ROCK, computer played ROCK.\",\"\\n Round Draw\")\n",
        "      print(\"\\nComputer Score: \", comp_score, \"\\nYour Score: \", player_score)\n",
        "    elif pred == 1:\n",
        "      print(\"\\nYou played ROCK, computer played PAPER.\",\"\\n compuer win the round\")\n",
        "      comp_score += 1\n",
        "      print(\"\\nComputer Score: \", comp_score, \"\\nYour Score: \", player_score)\n",
        "    else:\n",
        "      print(\"\\nYou played ROCK, computer played SCISSORS.\",\"\\n you win the round\")\n",
        "      player_score += 1\n",
        "      print(\"\\nComputer Score: \", comp_score, \"\\nYour Score: \", player_score)\n",
        "\n",
        "\n",
        "  elif user_input == 1:\n",
        "    if pred == 1:\n",
        "      print(\"\\nYou played PAPER, computer played PAPER.\",\"\\n Round Draw\")\n",
        "      print(\"\\nComputer Score: \", comp_score, \"\\nYour Score: \", player_score)\n",
        "    elif pred == 0:\n",
        "      print(\"\\nYou played PAPER, computer played ROCK.\",\"\\n you win the round\")\n",
        "      player_score += 1\n",
        "      print(\"\\nComputer Score: \", comp_score, \"\\nYour Score: \", player_score)\n",
        "    else:\n",
        "      print(\"\\nYou played PAPER, computer played SCISSORS.\",\"\\n compuer win the round\")\n",
        "      comp_score += 1\n",
        "      print(\"\\nComputer Score: \", comp_score, \"\\nYour Score: \", player_score)\n",
        "\n",
        "\n",
        "  else:\n",
        "    if pred==2:\n",
        "      print(\"\\nYou played SCISSOR, computer played scissor\",\"\\n Round Draw\")\n",
        "      print(\"\\nComputer Score: \", comp_score,\"\\nYour Score: \",player_score)\n",
        "    elif pred==0:\n",
        "      print(\"\\nYou played SCISSOR, computer played rock\",\"\\n compuer win the round\")\n",
        "      comp_score +=1\n",
        "      print(\"\\nComputer_score: \", comp_score, \"\\nYour score: \",player_score)\n",
        "    else:\n",
        "      print(\"\\nYou played SCISSOR, computer played paper\",\"\\n you win the round\")\n",
        "      player_score +=1\n",
        "      print(\"\\nComputer_score:  \", comp_score, \"\\nYour Score: \",player_score)\n"
      ],
      "execution_count": null,
      "outputs": []
    },
    {
      "cell_type": "markdown",
      "source": [
        "**START GAME**"
      ],
      "metadata": {
        "id": "HSqtLkuQ2sp2"
      }
    },
    {
      "cell_type": "code",
      "metadata": {
        "id": "XunWo6pKe7jg",
        "colab": {
          "base_uri": "https://localhost:8080/"
        },
        "outputId": "18cee4a1-d681-46b9-9e07-73ea5fef6d1d"
      },
      "source": [
        "valid_entries = ['0', '1', '2']\n",
        "t=5\n",
        "while True:\n",
        "  user_input = input(\"Enter 0 for ROCK, 1 for PAPER and 2 for SCISSORS: \")\n",
        "\n",
        "  while user_input not in valid_entries:\n",
        "    print(\"\\nInvalid Input!\")\n",
        "    user_input = input(\"Enter 0 for ROCK, 1 for PAPER and 2 for SCISSORS: \")\n",
        "\n",
        "\n",
        "  user_input = int(user_input)\n",
        "\n",
        "  update_scores(user_input)\n",
        "\n",
        "  t=t-1\n",
        "\n",
        "\n",
        "  if t==0 and comp_score>player_score:\n",
        "    print(\"Computer won the game\")\n",
        "    break\n",
        "  if t==0 and player_score>comp_score:\n",
        "    print(\"You won the game\")\n",
        "    break\n",
        "  if t==0 and player_score==comp_score:\n",
        "    print(\"Game Draw\")\n",
        "    break\n",
        "\n",
        "\n"
      ],
      "execution_count": null,
      "outputs": [
        {
          "output_type": "stream",
          "name": "stdout",
          "text": [
            "Enter 0 for ROCK, 1 for PAPER and 2 for SCISSORS: 1\n",
            "\n",
            "You played PAPER, computer played PAPER. \n",
            " Round Draw\n",
            "\n",
            "Computer Score:  0 \n",
            "Your Score:  0\n",
            "Enter 0 for ROCK, 1 for PAPER and 2 for SCISSORS: 2\n",
            "\n",
            "You played SCISSOR, computer played rock \n",
            " compuer win the round\n",
            "\n",
            "Computer_score:  1 \n",
            "Your score:  0\n",
            "Enter 0 for ROCK, 1 for PAPER and 2 for SCISSORS: 0\n",
            "\n",
            "You played ROCK, computer played ROCK. \n",
            " Round Draw\n",
            "\n",
            "Computer Score:  1 \n",
            "Your Score:  0\n",
            "Enter 0 for ROCK, 1 for PAPER and 2 for SCISSORS: 1\n",
            "\n",
            "You played PAPER, computer played ROCK. \n",
            " you win the round\n",
            "\n",
            "Computer Score:  1 \n",
            "Your Score:  1\n",
            "Enter 0 for ROCK, 1 for PAPER and 2 for SCISSORS: 0\n",
            "\n",
            "You played ROCK, computer played SCISSORS. \n",
            " you win the round\n",
            "\n",
            "Computer Score:  1 \n",
            "Your Score:  2\n",
            "You won the game\n"
          ]
        }
      ]
    }
  ]
}